{
  "nbformat": 4,
  "nbformat_minor": 0,
  "metadata": {
    "colab": {
      "name": "Adivina mi numero.ipynb",
      "provenance": [],
      "authorship_tag": "ABX9TyOv9gdThvZI9MCb4Xur2n5f",
      "include_colab_link": true
    },
    "kernelspec": {
      "name": "python3",
      "display_name": "Python 3"
    },
    "language_info": {
      "name": "python"
    }
  },
  "cells": [
    {
      "cell_type": "markdown",
      "metadata": {
        "id": "view-in-github",
        "colab_type": "text"
      },
      "source": [
        "<a href=\"https://colab.research.google.com/github/DuvanLombana/Prueba/blob/main/Introduccion/Adivina_mi_numero.ipynb\" target=\"_parent\"><img src=\"https://colab.research.google.com/assets/colab-badge.svg\" alt=\"Open In Colab\"/></a>"
      ]
    },
    {
      "cell_type": "code",
      "execution_count": null,
      "metadata": {
        "colab": {
          "base_uri": "https://localhost:8080/"
        },
        "id": "G5_27_a22PQP",
        "outputId": "db6f6361-a3b2-4a0e-d004-e60d82ea9650"
      },
      "outputs": [
        {
          "output_type": "stream",
          "name": "stdout",
          "text": [
            "Adivina un numero del 0 al 100\n",
            "\n",
            "Intento  1\n",
            "Escribe tu numero: 50\n",
            "Ingresa un número más grande\n",
            "Intento  2\n",
            "Escribe tu numero: 100\n",
            "Ingresa un número más pequeño\n",
            "Intento  3\n",
            "Escribe tu numero: 60\n",
            "Ingresa un número más grande\n",
            "Intento  4\n",
            "Escribe tu numero: 90\n",
            "Ingresa un número más pequeño\n",
            "Intento  5\n",
            "Escribe tu numero: 70\n",
            "Ingresa un número más grande\n",
            "Intento  6\n",
            "Escribe tu numero: 80\n",
            "Ingresa un número más pequeño\n",
            "Intento  7\n",
            "Escribe tu numero: 72\n",
            "Ingresa un número más grande\n",
            "Intento  8\n",
            "Escribe tu numero: 78\n",
            "Ingresa un número más pequeño\n",
            "Intento  9\n",
            "Escribe tu numero: 74\n",
            "Ingresa un número más grande\n",
            "Intento  10\n",
            "Escribe tu numero: 76\n",
            "Ingresa un número más pequeño\n",
            "Intento  11\n",
            "Escribe tu numero: 75\n",
            "Felicitaciones. Adivinaste, el número secreto era 75\n",
            "Has adivinado el número usando 11 intentos\n"
          ]
        }
      ],
      "source": [
        "from random import random\n",
        "numero_secreto = int(100*random())\n",
        "print('Adivina un numero del 0 al 100\\n')\n",
        "# inicia declaración de control iterativo\n",
        "flag = True # = NO ADIVINÓ. Cuando <<buscamos>> algo podemos usar un flag\n",
        "i = 0\n",
        "while flag :\n",
        "  print('Intento ',i+1)\n",
        "  numero_ingresado = int(input('Escribe tu numero: '))\n",
        "  if numero_secreto == numero_ingresado:\n",
        "    print('Felicitaciones. Adivinaste, el número secreto era',numero_secreto)\n",
        "    flag = False\n",
        "    break\n",
        "  elif numero_secreto < numero_ingresado:\n",
        "    print('Ingresa un número más pequeño')\n",
        "  else:\n",
        "    print('Ingresa un número más grande')\n",
        "  i = i+1\n",
        "#fin de control iterativo\n",
        "print('Has adivinado el número usando', i+1, 'intentos')"
      ]
    }
  ]
}